{
 "cells": [
  {
   "cell_type": "code",
   "execution_count": 1,
   "metadata": {},
   "outputs": [],
   "source": [
    "import numpy as np\n",
    "import pandas as pd\n",
    "import os, os.path\n",
    "from sklearn.ensemble import RandomForestClassifier"
   ]
  },
  {
   "cell_type": "code",
   "execution_count": 2,
   "metadata": {},
   "outputs": [
    {
     "name": "stdout",
     "output_type": "stream",
     "text": [
      "273\n"
     ]
    }
   ],
   "source": [
    "DIR = \"/home/gtrindadi/jds_june_2019/data-sendatree/\"\n",
    "\n",
    "# minus 1 because the last file is note the daily data\n",
    "n_files = len([name for name in os.listdir(DIR+\"data-registration/\") \n",
    "               if os.path.isfile(os.path.join(DIR+\"data-registration/\", name))]) - 1\n",
    "print (n_files)"
   ]
  },
  {
   "cell_type": "markdown",
   "metadata": {},
   "source": [
    "# Registrations"
   ]
  },
  {
   "cell_type": "code",
   "execution_count": 3,
   "metadata": {},
   "outputs": [],
   "source": [
    "column_names_reg = ['file_name', 'date', 'time', 'user_id', 'event', \n",
    "                    'birth_year', 'device_type', 'country', 'source']\n",
    "\n",
    "registrations = pd.DataFrame()\n",
    "\n",
    "# this activity was made when we were with 189 files (days)\n",
    "for n in range(1, n_files+1):\n",
    "    aux = pd.read_csv(DIR+'data-registration/day_'+str(n), delimiter=' ', names=column_names_reg)\n",
    "    registrations = pd.concat([registrations, aux])"
   ]
  },
  {
   "cell_type": "code",
   "execution_count": 4,
   "metadata": {},
   "outputs": [],
   "source": [
    "registrations = registrations.reset_index(drop='True')"
   ]
  },
  {
   "cell_type": "code",
   "execution_count": 5,
   "metadata": {
    "scrolled": true
   },
   "outputs": [
    {
     "data": {
      "text/html": [
       "<div>\n",
       "<style scoped>\n",
       "    .dataframe tbody tr th:only-of-type {\n",
       "        vertical-align: middle;\n",
       "    }\n",
       "\n",
       "    .dataframe tbody tr th {\n",
       "        vertical-align: top;\n",
       "    }\n",
       "\n",
       "    .dataframe thead th {\n",
       "        text-align: right;\n",
       "    }\n",
       "</style>\n",
       "<table border=\"1\" class=\"dataframe\">\n",
       "  <thead>\n",
       "    <tr style=\"text-align: right;\">\n",
       "      <th></th>\n",
       "      <th>file_name</th>\n",
       "      <th>date</th>\n",
       "      <th>time</th>\n",
       "      <th>user_id</th>\n",
       "      <th>event</th>\n",
       "      <th>birth_year</th>\n",
       "      <th>device_type</th>\n",
       "      <th>country</th>\n",
       "      <th>source</th>\n",
       "    </tr>\n",
       "  </thead>\n",
       "  <tbody>\n",
       "    <tr>\n",
       "      <th>284417</th>\n",
       "      <td>day_273</td>\n",
       "      <td>2019-10-17</td>\n",
       "      <td>23:58:40</td>\n",
       "      <td>1284418</td>\n",
       "      <td>registration</td>\n",
       "      <td>1991</td>\n",
       "      <td>ios</td>\n",
       "      <td>philippines</td>\n",
       "      <td>article</td>\n",
       "    </tr>\n",
       "    <tr>\n",
       "      <th>284418</th>\n",
       "      <td>day_273</td>\n",
       "      <td>2019-10-17</td>\n",
       "      <td>23:58:57</td>\n",
       "      <td>1284419</td>\n",
       "      <td>registration</td>\n",
       "      <td>1989</td>\n",
       "      <td>ios</td>\n",
       "      <td>brazil</td>\n",
       "      <td>paid</td>\n",
       "    </tr>\n",
       "    <tr>\n",
       "      <th>284419</th>\n",
       "      <td>day_273</td>\n",
       "      <td>2019-10-17</td>\n",
       "      <td>23:59:08</td>\n",
       "      <td>1284420</td>\n",
       "      <td>registration</td>\n",
       "      <td>1985</td>\n",
       "      <td>android</td>\n",
       "      <td>sweden</td>\n",
       "      <td>google</td>\n",
       "    </tr>\n",
       "    <tr>\n",
       "      <th>284420</th>\n",
       "      <td>day_273</td>\n",
       "      <td>2019-10-17</td>\n",
       "      <td>23:59:22</td>\n",
       "      <td>1284421</td>\n",
       "      <td>registration</td>\n",
       "      <td>1991</td>\n",
       "      <td>error</td>\n",
       "      <td>united_states</td>\n",
       "      <td>invite_a_friend</td>\n",
       "    </tr>\n",
       "    <tr>\n",
       "      <th>284421</th>\n",
       "      <td>day_273</td>\n",
       "      <td>2019-10-17</td>\n",
       "      <td>23:59:47</td>\n",
       "      <td>1284422</td>\n",
       "      <td>registration</td>\n",
       "      <td>1987</td>\n",
       "      <td>error</td>\n",
       "      <td>united_states</td>\n",
       "      <td>invite_a_friend</td>\n",
       "    </tr>\n",
       "  </tbody>\n",
       "</table>\n",
       "</div>"
      ],
      "text/plain": [
       "       file_name        date      time  user_id         event  birth_year  \\\n",
       "284417   day_273  2019-10-17  23:58:40  1284418  registration        1991   \n",
       "284418   day_273  2019-10-17  23:58:57  1284419  registration        1989   \n",
       "284419   day_273  2019-10-17  23:59:08  1284420  registration        1985   \n",
       "284420   day_273  2019-10-17  23:59:22  1284421  registration        1991   \n",
       "284421   day_273  2019-10-17  23:59:47  1284422  registration        1987   \n",
       "\n",
       "       device_type        country           source  \n",
       "284417         ios    philippines          article  \n",
       "284418         ios         brazil             paid  \n",
       "284419     android         sweden           google  \n",
       "284420       error  united_states  invite_a_friend  \n",
       "284421       error  united_states  invite_a_friend  "
      ]
     },
     "execution_count": 5,
     "metadata": {},
     "output_type": "execute_result"
    }
   ],
   "source": [
    "registrations.tail()"
   ]
  },
  {
   "cell_type": "markdown",
   "metadata": {},
   "source": [
    "# Free Tree Sends"
   ]
  },
  {
   "cell_type": "code",
   "execution_count": 6,
   "metadata": {},
   "outputs": [],
   "source": [
    "column_names_sends = ['file_name', 'date', 'user_id', 'event']\n",
    "\n",
    "free_tree = pd.read_csv(DIR+'data-free-tree/free-tree-all-data.csv', delimiter=' ', names=column_names_sends)"
   ]
  },
  {
   "cell_type": "code",
   "execution_count": 7,
   "metadata": {},
   "outputs": [
    {
     "data": {
      "text/html": [
       "<div>\n",
       "<style scoped>\n",
       "    .dataframe tbody tr th:only-of-type {\n",
       "        vertical-align: middle;\n",
       "    }\n",
       "\n",
       "    .dataframe tbody tr th {\n",
       "        vertical-align: top;\n",
       "    }\n",
       "\n",
       "    .dataframe thead th {\n",
       "        text-align: right;\n",
       "    }\n",
       "</style>\n",
       "<table border=\"1\" class=\"dataframe\">\n",
       "  <thead>\n",
       "    <tr style=\"text-align: right;\">\n",
       "      <th></th>\n",
       "      <th>file_name</th>\n",
       "      <th>date</th>\n",
       "      <th>user_id</th>\n",
       "      <th>event</th>\n",
       "    </tr>\n",
       "  </thead>\n",
       "  <tbody>\n",
       "    <tr>\n",
       "      <th>2595564</th>\n",
       "      <td>day_273</td>\n",
       "      <td>2019-10-17</td>\n",
       "      <td>1284422</td>\n",
       "      <td>sent_a_free_tree</td>\n",
       "    </tr>\n",
       "    <tr>\n",
       "      <th>2595565</th>\n",
       "      <td>day_273</td>\n",
       "      <td>2019-10-17</td>\n",
       "      <td>1284422</td>\n",
       "      <td>sent_a_free_tree</td>\n",
       "    </tr>\n",
       "    <tr>\n",
       "      <th>2595566</th>\n",
       "      <td>day_273</td>\n",
       "      <td>2019-10-17</td>\n",
       "      <td>1284422</td>\n",
       "      <td>sent_a_free_tree</td>\n",
       "    </tr>\n",
       "    <tr>\n",
       "      <th>2595567</th>\n",
       "      <td>day_273</td>\n",
       "      <td>2019-10-17</td>\n",
       "      <td>1284422</td>\n",
       "      <td>sent_a_free_tree</td>\n",
       "    </tr>\n",
       "    <tr>\n",
       "      <th>2595568</th>\n",
       "      <td>day_273</td>\n",
       "      <td>2019-10-17</td>\n",
       "      <td>1284422</td>\n",
       "      <td>sent_a_free_tree</td>\n",
       "    </tr>\n",
       "  </tbody>\n",
       "</table>\n",
       "</div>"
      ],
      "text/plain": [
       "        file_name        date  user_id             event\n",
       "2595564   day_273  2019-10-17  1284422  sent_a_free_tree\n",
       "2595565   day_273  2019-10-17  1284422  sent_a_free_tree\n",
       "2595566   day_273  2019-10-17  1284422  sent_a_free_tree\n",
       "2595567   day_273  2019-10-17  1284422  sent_a_free_tree\n",
       "2595568   day_273  2019-10-17  1284422  sent_a_free_tree"
      ]
     },
     "execution_count": 7,
     "metadata": {},
     "output_type": "execute_result"
    }
   ],
   "source": [
    "free_tree.tail()"
   ]
  },
  {
   "cell_type": "code",
   "execution_count": 8,
   "metadata": {},
   "outputs": [
    {
     "data": {
      "text/plain": [
       "file_name    2595569\n",
       "date         2595569\n",
       "user_id      2595569\n",
       "event        2595569\n",
       "dtype: int64"
      ]
     },
     "execution_count": 8,
     "metadata": {},
     "output_type": "execute_result"
    }
   ],
   "source": [
    "free_tree.count()"
   ]
  },
  {
   "cell_type": "markdown",
   "metadata": {},
   "source": [
    "## Super Tree Sends"
   ]
  },
  {
   "cell_type": "code",
   "execution_count": 9,
   "metadata": {},
   "outputs": [],
   "source": [
    "super_tree = pd.DataFrame()\n",
    "\n",
    "# this activity was made when we were with 189 files (days)\n",
    "for n in range(1, n_files+1):\n",
    "    aux = pd.read_csv(DIR+'data-super-tree/day_'+str(n), delimiter=' ', names=column_names_sends)\n",
    "    super_tree = pd.concat([super_tree, aux])"
   ]
  },
  {
   "cell_type": "code",
   "execution_count": 10,
   "metadata": {},
   "outputs": [],
   "source": [
    "super_tree = super_tree.reset_index(drop=True)"
   ]
  },
  {
   "cell_type": "code",
   "execution_count": 11,
   "metadata": {},
   "outputs": [
    {
     "data": {
      "text/html": [
       "<div>\n",
       "<style scoped>\n",
       "    .dataframe tbody tr th:only-of-type {\n",
       "        vertical-align: middle;\n",
       "    }\n",
       "\n",
       "    .dataframe tbody tr th {\n",
       "        vertical-align: top;\n",
       "    }\n",
       "\n",
       "    .dataframe thead th {\n",
       "        text-align: right;\n",
       "    }\n",
       "</style>\n",
       "<table border=\"1\" class=\"dataframe\">\n",
       "  <thead>\n",
       "    <tr style=\"text-align: right;\">\n",
       "      <th></th>\n",
       "      <th>file_name</th>\n",
       "      <th>date</th>\n",
       "      <th>user_id</th>\n",
       "      <th>event</th>\n",
       "    </tr>\n",
       "  </thead>\n",
       "  <tbody>\n",
       "    <tr>\n",
       "      <th>175838</th>\n",
       "      <td>day_273</td>\n",
       "      <td>2019-10-17</td>\n",
       "      <td>1277650</td>\n",
       "      <td>sent_a_super_tree</td>\n",
       "    </tr>\n",
       "    <tr>\n",
       "      <th>175839</th>\n",
       "      <td>day_273</td>\n",
       "      <td>2019-10-17</td>\n",
       "      <td>1275865</td>\n",
       "      <td>sent_a_super_tree</td>\n",
       "    </tr>\n",
       "    <tr>\n",
       "      <th>175840</th>\n",
       "      <td>day_273</td>\n",
       "      <td>2019-10-17</td>\n",
       "      <td>1281894</td>\n",
       "      <td>sent_a_super_tree</td>\n",
       "    </tr>\n",
       "    <tr>\n",
       "      <th>175841</th>\n",
       "      <td>day_273</td>\n",
       "      <td>2019-10-17</td>\n",
       "      <td>1281894</td>\n",
       "      <td>sent_a_super_tree</td>\n",
       "    </tr>\n",
       "    <tr>\n",
       "      <th>175842</th>\n",
       "      <td>day_273</td>\n",
       "      <td>2019-10-17</td>\n",
       "      <td>1281894</td>\n",
       "      <td>sent_a_super_tree</td>\n",
       "    </tr>\n",
       "  </tbody>\n",
       "</table>\n",
       "</div>"
      ],
      "text/plain": [
       "       file_name        date  user_id              event\n",
       "175838   day_273  2019-10-17  1277650  sent_a_super_tree\n",
       "175839   day_273  2019-10-17  1275865  sent_a_super_tree\n",
       "175840   day_273  2019-10-17  1281894  sent_a_super_tree\n",
       "175841   day_273  2019-10-17  1281894  sent_a_super_tree\n",
       "175842   day_273  2019-10-17  1281894  sent_a_super_tree"
      ]
     },
     "execution_count": 11,
     "metadata": {},
     "output_type": "execute_result"
    }
   ],
   "source": [
    "super_tree.tail()"
   ]
  },
  {
   "cell_type": "code",
   "execution_count": 12,
   "metadata": {},
   "outputs": [
    {
     "data": {
      "text/plain": [
       "file_name    175843\n",
       "date         175843\n",
       "user_id      175843\n",
       "event        175843\n",
       "dtype: int64"
      ]
     },
     "execution_count": 12,
     "metadata": {},
     "output_type": "execute_result"
    }
   ],
   "source": [
    "super_tree.count()"
   ]
  },
  {
   "cell_type": "markdown",
   "metadata": {},
   "source": [
    "# Figuring out the real quantity of the error values -- in two ways"
   ]
  },
  {
   "cell_type": "code",
   "execution_count": 13,
   "metadata": {},
   "outputs": [
    {
     "data": {
      "text/html": [
       "<div>\n",
       "<style scoped>\n",
       "    .dataframe tbody tr th:only-of-type {\n",
       "        vertical-align: middle;\n",
       "    }\n",
       "\n",
       "    .dataframe tbody tr th {\n",
       "        vertical-align: top;\n",
       "    }\n",
       "\n",
       "    .dataframe thead th {\n",
       "        text-align: right;\n",
       "    }\n",
       "</style>\n",
       "<table border=\"1\" class=\"dataframe\">\n",
       "  <thead>\n",
       "    <tr style=\"text-align: right;\">\n",
       "      <th></th>\n",
       "      <th>file_name</th>\n",
       "    </tr>\n",
       "    <tr>\n",
       "      <th>device_type</th>\n",
       "      <th></th>\n",
       "    </tr>\n",
       "  </thead>\n",
       "  <tbody>\n",
       "    <tr>\n",
       "      <th>android</th>\n",
       "      <td>124249</td>\n",
       "    </tr>\n",
       "    <tr>\n",
       "      <th>error</th>\n",
       "      <td>110479</td>\n",
       "    </tr>\n",
       "    <tr>\n",
       "      <th>ios</th>\n",
       "      <td>49694</td>\n",
       "    </tr>\n",
       "  </tbody>\n",
       "</table>\n",
       "</div>"
      ],
      "text/plain": [
       "             file_name\n",
       "device_type           \n",
       "android         124249\n",
       "error           110479\n",
       "ios              49694"
      ]
     },
     "execution_count": 13,
     "metadata": {},
     "output_type": "execute_result"
    }
   ],
   "source": [
    "registrations.groupby('device_type').count()[['file_name']]"
   ]
  },
  {
   "cell_type": "code",
   "execution_count": 14,
   "metadata": {},
   "outputs": [
    {
     "data": {
      "text/plain": [
       "110479"
      ]
     },
     "execution_count": 14,
     "metadata": {},
     "output_type": "execute_result"
    }
   ],
   "source": [
    "registrations[registrations.device_type == 'error'].count()['file_name']"
   ]
  },
  {
   "cell_type": "markdown",
   "metadata": {},
   "source": [
    "# Figuring out the real values of the error values\n",
    "\n",
    "1: preparing my data <br>\n",
    "2: train and test with the data that have a real device_type (android or ios) <br>\n",
    "3: see the accuracy of this model <br>\n",
    "4: adjust until you have a nice accuracy <br>\n",
    "5: apply the model for error cases"
   ]
  },
  {
   "cell_type": "markdown",
   "metadata": {},
   "source": [
    "## Preparing my data (step 1)\n",
    "\n",
    "1: get the free_tree_count and super_tree_count <br>\n",
    "2: get only important columns (user_id, device_type, source) <br>\n",
    "3: merge the registrations, free_tree_count, super_tree_count dfs <br>\n",
    "4: turn the 'NaN' values into 0 <br>\n",
    "5: separate the data in known_values (ios and android) and unknown_values (error) of device column <br>\n",
    "6: turn the device_type and source values in number (use dictionary)"
   ]
  },
  {
   "cell_type": "code",
   "execution_count": 15,
   "metadata": {},
   "outputs": [
    {
     "data": {
      "text/html": [
       "<div>\n",
       "<style scoped>\n",
       "    .dataframe tbody tr th:only-of-type {\n",
       "        vertical-align: middle;\n",
       "    }\n",
       "\n",
       "    .dataframe tbody tr th {\n",
       "        vertical-align: top;\n",
       "    }\n",
       "\n",
       "    .dataframe thead th {\n",
       "        text-align: right;\n",
       "    }\n",
       "</style>\n",
       "<table border=\"1\" class=\"dataframe\">\n",
       "  <thead>\n",
       "    <tr style=\"text-align: right;\">\n",
       "      <th></th>\n",
       "      <th>user_id</th>\n",
       "      <th>free_sends</th>\n",
       "    </tr>\n",
       "  </thead>\n",
       "  <tbody>\n",
       "    <tr>\n",
       "      <th>0</th>\n",
       "      <td>1000001</td>\n",
       "      <td>5</td>\n",
       "    </tr>\n",
       "    <tr>\n",
       "      <th>1</th>\n",
       "      <td>1000002</td>\n",
       "      <td>4</td>\n",
       "    </tr>\n",
       "    <tr>\n",
       "      <th>2</th>\n",
       "      <td>1000003</td>\n",
       "      <td>37</td>\n",
       "    </tr>\n",
       "    <tr>\n",
       "      <th>3</th>\n",
       "      <td>1000005</td>\n",
       "      <td>6</td>\n",
       "    </tr>\n",
       "    <tr>\n",
       "      <th>4</th>\n",
       "      <td>1000006</td>\n",
       "      <td>4</td>\n",
       "    </tr>\n",
       "  </tbody>\n",
       "</table>\n",
       "</div>"
      ],
      "text/plain": [
       "   user_id  free_sends\n",
       "0  1000001           5\n",
       "1  1000002           4\n",
       "2  1000003          37\n",
       "3  1000005           6\n",
       "4  1000006           4"
      ]
     },
     "execution_count": 15,
     "metadata": {},
     "output_type": "execute_result"
    }
   ],
   "source": [
    "free_tree_sends = free_tree.groupby('user_id').count()[['file_name']]\n",
    "free_tree_sends = free_tree_sends.rename(columns={'file_name':'free_sends'})\n",
    "free_tree_sends = free_tree_sends.reset_index()\n",
    "free_tree_sends.head()"
   ]
  },
  {
   "cell_type": "code",
   "execution_count": 16,
   "metadata": {},
   "outputs": [
    {
     "data": {
      "text/html": [
       "<div>\n",
       "<style scoped>\n",
       "    .dataframe tbody tr th:only-of-type {\n",
       "        vertical-align: middle;\n",
       "    }\n",
       "\n",
       "    .dataframe tbody tr th {\n",
       "        vertical-align: top;\n",
       "    }\n",
       "\n",
       "    .dataframe thead th {\n",
       "        text-align: right;\n",
       "    }\n",
       "</style>\n",
       "<table border=\"1\" class=\"dataframe\">\n",
       "  <thead>\n",
       "    <tr style=\"text-align: right;\">\n",
       "      <th></th>\n",
       "      <th>user_id</th>\n",
       "      <th>super_sends</th>\n",
       "    </tr>\n",
       "  </thead>\n",
       "  <tbody>\n",
       "    <tr>\n",
       "      <th>0</th>\n",
       "      <td>1000007</td>\n",
       "      <td>1</td>\n",
       "    </tr>\n",
       "    <tr>\n",
       "      <th>1</th>\n",
       "      <td>1000010</td>\n",
       "      <td>6</td>\n",
       "    </tr>\n",
       "    <tr>\n",
       "      <th>2</th>\n",
       "      <td>1000011</td>\n",
       "      <td>2</td>\n",
       "    </tr>\n",
       "    <tr>\n",
       "      <th>3</th>\n",
       "      <td>1000013</td>\n",
       "      <td>1</td>\n",
       "    </tr>\n",
       "    <tr>\n",
       "      <th>4</th>\n",
       "      <td>1000019</td>\n",
       "      <td>1</td>\n",
       "    </tr>\n",
       "  </tbody>\n",
       "</table>\n",
       "</div>"
      ],
      "text/plain": [
       "   user_id  super_sends\n",
       "0  1000007            1\n",
       "1  1000010            6\n",
       "2  1000011            2\n",
       "3  1000013            1\n",
       "4  1000019            1"
      ]
     },
     "execution_count": 16,
     "metadata": {},
     "output_type": "execute_result"
    }
   ],
   "source": [
    "super_tree_sends = super_tree.groupby('user_id').count()[['file_name']]\n",
    "super_tree_sends = super_tree_sends.rename(columns={'file_name':'super_sends'})\n",
    "super_tree_sends = super_tree_sends.reset_index()\n",
    "super_tree_sends.head()"
   ]
  },
  {
   "cell_type": "code",
   "execution_count": 17,
   "metadata": {},
   "outputs": [
    {
     "data": {
      "text/html": [
       "<div>\n",
       "<style scoped>\n",
       "    .dataframe tbody tr th:only-of-type {\n",
       "        vertical-align: middle;\n",
       "    }\n",
       "\n",
       "    .dataframe tbody tr th {\n",
       "        vertical-align: top;\n",
       "    }\n",
       "\n",
       "    .dataframe thead th {\n",
       "        text-align: right;\n",
       "    }\n",
       "</style>\n",
       "<table border=\"1\" class=\"dataframe\">\n",
       "  <thead>\n",
       "    <tr style=\"text-align: right;\">\n",
       "      <th></th>\n",
       "      <th>user_id</th>\n",
       "      <th>device_type</th>\n",
       "      <th>source</th>\n",
       "      <th>free_sends</th>\n",
       "    </tr>\n",
       "  </thead>\n",
       "  <tbody>\n",
       "    <tr>\n",
       "      <th>0</th>\n",
       "      <td>1000001</td>\n",
       "      <td>android</td>\n",
       "      <td>invite_a_friend</td>\n",
       "      <td>5.0</td>\n",
       "    </tr>\n",
       "    <tr>\n",
       "      <th>1</th>\n",
       "      <td>1000002</td>\n",
       "      <td>ios</td>\n",
       "      <td>invite_a_friend</td>\n",
       "      <td>4.0</td>\n",
       "    </tr>\n",
       "    <tr>\n",
       "      <th>2</th>\n",
       "      <td>1000003</td>\n",
       "      <td>error</td>\n",
       "      <td>invite_a_friend</td>\n",
       "      <td>37.0</td>\n",
       "    </tr>\n",
       "    <tr>\n",
       "      <th>3</th>\n",
       "      <td>1000004</td>\n",
       "      <td>error</td>\n",
       "      <td>invite_a_friend</td>\n",
       "      <td>NaN</td>\n",
       "    </tr>\n",
       "    <tr>\n",
       "      <th>4</th>\n",
       "      <td>1000005</td>\n",
       "      <td>ios</td>\n",
       "      <td>invite_a_friend</td>\n",
       "      <td>6.0</td>\n",
       "    </tr>\n",
       "  </tbody>\n",
       "</table>\n",
       "</div>"
      ],
      "text/plain": [
       "   user_id device_type           source  free_sends\n",
       "0  1000001     android  invite_a_friend         5.0\n",
       "1  1000002         ios  invite_a_friend         4.0\n",
       "2  1000003       error  invite_a_friend        37.0\n",
       "3  1000004       error  invite_a_friend         NaN\n",
       "4  1000005         ios  invite_a_friend         6.0"
      ]
     },
     "execution_count": 17,
     "metadata": {},
     "output_type": "execute_result"
    }
   ],
   "source": [
    "all_data = registrations[['user_id', 'device_type', 'source']].merge(\n",
    "    free_tree_sends, how='left', left_on='user_id', right_on='user_id')\n",
    "\n",
    "all_data.head()"
   ]
  },
  {
   "cell_type": "code",
   "execution_count": 18,
   "metadata": {},
   "outputs": [
    {
     "data": {
      "text/html": [
       "<div>\n",
       "<style scoped>\n",
       "    .dataframe tbody tr th:only-of-type {\n",
       "        vertical-align: middle;\n",
       "    }\n",
       "\n",
       "    .dataframe tbody tr th {\n",
       "        vertical-align: top;\n",
       "    }\n",
       "\n",
       "    .dataframe thead th {\n",
       "        text-align: right;\n",
       "    }\n",
       "</style>\n",
       "<table border=\"1\" class=\"dataframe\">\n",
       "  <thead>\n",
       "    <tr style=\"text-align: right;\">\n",
       "      <th></th>\n",
       "      <th>user_id</th>\n",
       "      <th>device_type</th>\n",
       "      <th>source</th>\n",
       "      <th>free_sends</th>\n",
       "    </tr>\n",
       "  </thead>\n",
       "  <tbody>\n",
       "    <tr>\n",
       "      <th>0</th>\n",
       "      <td>1000001</td>\n",
       "      <td>android</td>\n",
       "      <td>invite_a_friend</td>\n",
       "      <td>5</td>\n",
       "    </tr>\n",
       "    <tr>\n",
       "      <th>1</th>\n",
       "      <td>1000002</td>\n",
       "      <td>ios</td>\n",
       "      <td>invite_a_friend</td>\n",
       "      <td>4</td>\n",
       "    </tr>\n",
       "    <tr>\n",
       "      <th>2</th>\n",
       "      <td>1000003</td>\n",
       "      <td>error</td>\n",
       "      <td>invite_a_friend</td>\n",
       "      <td>37</td>\n",
       "    </tr>\n",
       "    <tr>\n",
       "      <th>3</th>\n",
       "      <td>1000004</td>\n",
       "      <td>error</td>\n",
       "      <td>invite_a_friend</td>\n",
       "      <td>0</td>\n",
       "    </tr>\n",
       "    <tr>\n",
       "      <th>4</th>\n",
       "      <td>1000005</td>\n",
       "      <td>ios</td>\n",
       "      <td>invite_a_friend</td>\n",
       "      <td>6</td>\n",
       "    </tr>\n",
       "  </tbody>\n",
       "</table>\n",
       "</div>"
      ],
      "text/plain": [
       "   user_id device_type           source free_sends\n",
       "0  1000001     android  invite_a_friend          5\n",
       "1  1000002         ios  invite_a_friend          4\n",
       "2  1000003       error  invite_a_friend         37\n",
       "3  1000004       error  invite_a_friend          0\n",
       "4  1000005         ios  invite_a_friend          6"
      ]
     },
     "execution_count": 18,
     "metadata": {},
     "output_type": "execute_result"
    }
   ],
   "source": [
    "all_data = all_data.fillna('0')\n",
    "\n",
    "all_data.head()"
   ]
  },
  {
   "cell_type": "code",
   "execution_count": 19,
   "metadata": {
    "scrolled": true
   },
   "outputs": [
    {
     "data": {
      "text/html": [
       "<div>\n",
       "<style scoped>\n",
       "    .dataframe tbody tr th:only-of-type {\n",
       "        vertical-align: middle;\n",
       "    }\n",
       "\n",
       "    .dataframe tbody tr th {\n",
       "        vertical-align: top;\n",
       "    }\n",
       "\n",
       "    .dataframe thead th {\n",
       "        text-align: right;\n",
       "    }\n",
       "</style>\n",
       "<table border=\"1\" class=\"dataframe\">\n",
       "  <thead>\n",
       "    <tr style=\"text-align: right;\">\n",
       "      <th></th>\n",
       "      <th>user_id</th>\n",
       "      <th>device_type</th>\n",
       "      <th>source</th>\n",
       "      <th>free_sends</th>\n",
       "      <th>super_sends</th>\n",
       "    </tr>\n",
       "  </thead>\n",
       "  <tbody>\n",
       "    <tr>\n",
       "      <th>284417</th>\n",
       "      <td>1284418</td>\n",
       "      <td>ios</td>\n",
       "      <td>article</td>\n",
       "      <td>1</td>\n",
       "      <td>0</td>\n",
       "    </tr>\n",
       "    <tr>\n",
       "      <th>284418</th>\n",
       "      <td>1284419</td>\n",
       "      <td>ios</td>\n",
       "      <td>paid</td>\n",
       "      <td>0</td>\n",
       "      <td>0</td>\n",
       "    </tr>\n",
       "    <tr>\n",
       "      <th>284419</th>\n",
       "      <td>1284420</td>\n",
       "      <td>android</td>\n",
       "      <td>google</td>\n",
       "      <td>1</td>\n",
       "      <td>0</td>\n",
       "    </tr>\n",
       "    <tr>\n",
       "      <th>284420</th>\n",
       "      <td>1284421</td>\n",
       "      <td>error</td>\n",
       "      <td>invite_a_friend</td>\n",
       "      <td>9</td>\n",
       "      <td>4</td>\n",
       "    </tr>\n",
       "    <tr>\n",
       "      <th>284421</th>\n",
       "      <td>1284422</td>\n",
       "      <td>error</td>\n",
       "      <td>invite_a_friend</td>\n",
       "      <td>5</td>\n",
       "      <td>0</td>\n",
       "    </tr>\n",
       "  </tbody>\n",
       "</table>\n",
       "</div>"
      ],
      "text/plain": [
       "        user_id device_type           source free_sends super_sends\n",
       "284417  1284418         ios          article          1           0\n",
       "284418  1284419         ios             paid          0           0\n",
       "284419  1284420     android           google          1           0\n",
       "284420  1284421       error  invite_a_friend          9           4\n",
       "284421  1284422       error  invite_a_friend          5           0"
      ]
     },
     "execution_count": 19,
     "metadata": {},
     "output_type": "execute_result"
    }
   ],
   "source": [
    "all_data = all_data.merge(super_tree_sends, how='left', \n",
    "                          left_on='user_id', right_on='user_id').fillna('0')\n",
    "\n",
    "all_data.tail()"
   ]
  },
  {
   "cell_type": "code",
   "execution_count": 38,
   "metadata": {},
   "outputs": [
    {
     "data": {
      "text/html": [
       "<div>\n",
       "<style scoped>\n",
       "    .dataframe tbody tr th:only-of-type {\n",
       "        vertical-align: middle;\n",
       "    }\n",
       "\n",
       "    .dataframe tbody tr th {\n",
       "        vertical-align: top;\n",
       "    }\n",
       "\n",
       "    .dataframe thead th {\n",
       "        text-align: right;\n",
       "    }\n",
       "</style>\n",
       "<table border=\"1\" class=\"dataframe\">\n",
       "  <thead>\n",
       "    <tr style=\"text-align: right;\">\n",
       "      <th></th>\n",
       "      <th>user_id</th>\n",
       "      <th>device_type</th>\n",
       "      <th>source</th>\n",
       "      <th>free_sends</th>\n",
       "      <th>super_sends</th>\n",
       "    </tr>\n",
       "  </thead>\n",
       "  <tbody>\n",
       "    <tr>\n",
       "      <th>0</th>\n",
       "      <td>1000001</td>\n",
       "      <td>android</td>\n",
       "      <td>invite_a_friend</td>\n",
       "      <td>5</td>\n",
       "      <td>0</td>\n",
       "    </tr>\n",
       "    <tr>\n",
       "      <th>1</th>\n",
       "      <td>1000002</td>\n",
       "      <td>ios</td>\n",
       "      <td>invite_a_friend</td>\n",
       "      <td>4</td>\n",
       "      <td>0</td>\n",
       "    </tr>\n",
       "    <tr>\n",
       "      <th>2</th>\n",
       "      <td>1000005</td>\n",
       "      <td>ios</td>\n",
       "      <td>invite_a_friend</td>\n",
       "      <td>6</td>\n",
       "      <td>0</td>\n",
       "    </tr>\n",
       "    <tr>\n",
       "      <th>3</th>\n",
       "      <td>1000006</td>\n",
       "      <td>android</td>\n",
       "      <td>invite_a_friend</td>\n",
       "      <td>4</td>\n",
       "      <td>0</td>\n",
       "    </tr>\n",
       "    <tr>\n",
       "      <th>4</th>\n",
       "      <td>1000007</td>\n",
       "      <td>android</td>\n",
       "      <td>invite_a_friend</td>\n",
       "      <td>11</td>\n",
       "      <td>1</td>\n",
       "    </tr>\n",
       "  </tbody>\n",
       "</table>\n",
       "</div>"
      ],
      "text/plain": [
       "   user_id device_type           source free_sends super_sends\n",
       "0  1000001     android  invite_a_friend          5           0\n",
       "1  1000002         ios  invite_a_friend          4           0\n",
       "2  1000005         ios  invite_a_friend          6           0\n",
       "3  1000006     android  invite_a_friend          4           0\n",
       "4  1000007     android  invite_a_friend         11           1"
      ]
     },
     "execution_count": 38,
     "metadata": {},
     "output_type": "execute_result"
    }
   ],
   "source": [
    "# creating a dataframe with observations that have a real device_type\n",
    "known_values_device = all_data[(all_data.device_type=='android') |\n",
    "                               (all_data.device_type=='ios')].reset_index(drop=True)\n",
    "\n",
    "known_values_device.head()"
   ]
  },
  {
   "cell_type": "code",
   "execution_count": 49,
   "metadata": {},
   "outputs": [
    {
     "data": {
      "text/html": [
       "<div>\n",
       "<style scoped>\n",
       "    .dataframe tbody tr th:only-of-type {\n",
       "        vertical-align: middle;\n",
       "    }\n",
       "\n",
       "    .dataframe tbody tr th {\n",
       "        vertical-align: top;\n",
       "    }\n",
       "\n",
       "    .dataframe thead th {\n",
       "        text-align: right;\n",
       "    }\n",
       "</style>\n",
       "<table border=\"1\" class=\"dataframe\">\n",
       "  <thead>\n",
       "    <tr style=\"text-align: right;\">\n",
       "      <th></th>\n",
       "      <th>user_id</th>\n",
       "      <th>device_type</th>\n",
       "      <th>source</th>\n",
       "      <th>free_sends</th>\n",
       "      <th>super_sends</th>\n",
       "    </tr>\n",
       "  </thead>\n",
       "  <tbody>\n",
       "    <tr>\n",
       "      <th>0</th>\n",
       "      <td>1000003</td>\n",
       "      <td>error</td>\n",
       "      <td>invite_a_friend</td>\n",
       "      <td>37</td>\n",
       "      <td>0</td>\n",
       "    </tr>\n",
       "    <tr>\n",
       "      <th>1</th>\n",
       "      <td>1000004</td>\n",
       "      <td>error</td>\n",
       "      <td>invite_a_friend</td>\n",
       "      <td>0</td>\n",
       "      <td>0</td>\n",
       "    </tr>\n",
       "    <tr>\n",
       "      <th>2</th>\n",
       "      <td>1000010</td>\n",
       "      <td>error</td>\n",
       "      <td>invite_a_friend</td>\n",
       "      <td>1</td>\n",
       "      <td>6</td>\n",
       "    </tr>\n",
       "    <tr>\n",
       "      <th>3</th>\n",
       "      <td>1000011</td>\n",
       "      <td>error</td>\n",
       "      <td>invite_a_friend</td>\n",
       "      <td>11</td>\n",
       "      <td>2</td>\n",
       "    </tr>\n",
       "    <tr>\n",
       "      <th>4</th>\n",
       "      <td>1000012</td>\n",
       "      <td>error</td>\n",
       "      <td>invite_a_friend</td>\n",
       "      <td>35</td>\n",
       "      <td>0</td>\n",
       "    </tr>\n",
       "  </tbody>\n",
       "</table>\n",
       "</div>"
      ],
      "text/plain": [
       "   user_id device_type           source free_sends super_sends\n",
       "0  1000003       error  invite_a_friend         37           0\n",
       "1  1000004       error  invite_a_friend          0           0\n",
       "2  1000010       error  invite_a_friend          1           6\n",
       "3  1000011       error  invite_a_friend         11           2\n",
       "4  1000012       error  invite_a_friend         35           0"
      ]
     },
     "execution_count": 49,
     "metadata": {},
     "output_type": "execute_result"
    }
   ],
   "source": [
    "# creating a dataframe with observations that have a error device_type\n",
    "unknown_values_device = all_data[(all_data.device_type=='error')].reset_index(drop=True)\n",
    "\n",
    "unknown_values_device.head()"
   ]
  },
  {
   "cell_type": "code",
   "execution_count": 39,
   "metadata": {},
   "outputs": [],
   "source": [
    "device_type_dictionary = {'ios': 0, 'android': 1}\n",
    "known_values_device['device_type'] = known_values_device['device_type'].map(device_type_dictionary)"
   ]
  },
  {
   "cell_type": "code",
   "execution_count": 42,
   "metadata": {},
   "outputs": [],
   "source": [
    "source_dictionay = {'invite_a_friend': 0, 'google': 1, 'article': 2, 'paid': 3}\n",
    "known_values_device['source'] = known_values_device['source'].map(source_dictionay)"
   ]
  },
  {
   "cell_type": "code",
   "execution_count": 43,
   "metadata": {},
   "outputs": [
    {
     "data": {
      "text/html": [
       "<div>\n",
       "<style scoped>\n",
       "    .dataframe tbody tr th:only-of-type {\n",
       "        vertical-align: middle;\n",
       "    }\n",
       "\n",
       "    .dataframe tbody tr th {\n",
       "        vertical-align: top;\n",
       "    }\n",
       "\n",
       "    .dataframe thead th {\n",
       "        text-align: right;\n",
       "    }\n",
       "</style>\n",
       "<table border=\"1\" class=\"dataframe\">\n",
       "  <thead>\n",
       "    <tr style=\"text-align: right;\">\n",
       "      <th></th>\n",
       "      <th>user_id</th>\n",
       "      <th>device_type</th>\n",
       "      <th>source</th>\n",
       "      <th>free_sends</th>\n",
       "      <th>super_sends</th>\n",
       "    </tr>\n",
       "  </thead>\n",
       "  <tbody>\n",
       "    <tr>\n",
       "      <th>0</th>\n",
       "      <td>1000001</td>\n",
       "      <td>1</td>\n",
       "      <td>0</td>\n",
       "      <td>5</td>\n",
       "      <td>0</td>\n",
       "    </tr>\n",
       "    <tr>\n",
       "      <th>1</th>\n",
       "      <td>1000002</td>\n",
       "      <td>0</td>\n",
       "      <td>0</td>\n",
       "      <td>4</td>\n",
       "      <td>0</td>\n",
       "    </tr>\n",
       "    <tr>\n",
       "      <th>2</th>\n",
       "      <td>1000005</td>\n",
       "      <td>0</td>\n",
       "      <td>0</td>\n",
       "      <td>6</td>\n",
       "      <td>0</td>\n",
       "    </tr>\n",
       "    <tr>\n",
       "      <th>3</th>\n",
       "      <td>1000006</td>\n",
       "      <td>1</td>\n",
       "      <td>0</td>\n",
       "      <td>4</td>\n",
       "      <td>0</td>\n",
       "    </tr>\n",
       "    <tr>\n",
       "      <th>4</th>\n",
       "      <td>1000007</td>\n",
       "      <td>1</td>\n",
       "      <td>0</td>\n",
       "      <td>11</td>\n",
       "      <td>1</td>\n",
       "    </tr>\n",
       "  </tbody>\n",
       "</table>\n",
       "</div>"
      ],
      "text/plain": [
       "   user_id  device_type  source free_sends super_sends\n",
       "0  1000001            1       0          5           0\n",
       "1  1000002            0       0          4           0\n",
       "2  1000005            0       0          6           0\n",
       "3  1000006            1       0          4           0\n",
       "4  1000007            1       0         11           1"
      ]
     },
     "execution_count": 43,
     "metadata": {},
     "output_type": "execute_result"
    }
   ],
   "source": [
    "known_values_device.head()"
   ]
  },
  {
   "cell_type": "markdown",
   "metadata": {},
   "source": [
    "## Machine Learning stuff (from step 2 onwards)"
   ]
  },
  {
   "cell_type": "code",
   "execution_count": 45,
   "metadata": {},
   "outputs": [],
   "source": [
    "x = known_values_device[['free_sends', 'super_sends', 'source']]\n",
    "y = known_values_device['device_type']\n",
    "model = RandomForestClassifier(n_estimators=100)\n",
    "model = model.fit(x,y)"
   ]
  },
  {
   "cell_type": "code",
   "execution_count": 50,
   "metadata": {},
   "outputs": [],
   "source": [
    "unknown_values_device['source'] = unknown_values_device['source'].map(source_dictionay)"
   ]
  },
  {
   "cell_type": "code",
   "execution_count": 51,
   "metadata": {},
   "outputs": [
    {
     "data": {
      "text/plain": [
       "array([1])"
      ]
     },
     "execution_count": 51,
     "metadata": {},
     "output_type": "execute_result"
    }
   ],
   "source": [
    "sample_user = [1, 6, 0]\n",
    "model.predict([sample_user])"
   ]
  },
  {
   "cell_type": "code",
   "execution_count": 52,
   "metadata": {},
   "outputs": [
    {
     "data": {
      "text/html": [
       "<div>\n",
       "<style scoped>\n",
       "    .dataframe tbody tr th:only-of-type {\n",
       "        vertical-align: middle;\n",
       "    }\n",
       "\n",
       "    .dataframe tbody tr th {\n",
       "        vertical-align: top;\n",
       "    }\n",
       "\n",
       "    .dataframe thead th {\n",
       "        text-align: right;\n",
       "    }\n",
       "</style>\n",
       "<table border=\"1\" class=\"dataframe\">\n",
       "  <thead>\n",
       "    <tr style=\"text-align: right;\">\n",
       "      <th></th>\n",
       "      <th>user_id</th>\n",
       "      <th>device_type</th>\n",
       "      <th>source</th>\n",
       "      <th>free_sends</th>\n",
       "      <th>super_sends</th>\n",
       "    </tr>\n",
       "  </thead>\n",
       "  <tbody>\n",
       "    <tr>\n",
       "      <th>0</th>\n",
       "      <td>1000003</td>\n",
       "      <td>error</td>\n",
       "      <td>0</td>\n",
       "      <td>37</td>\n",
       "      <td>0</td>\n",
       "    </tr>\n",
       "    <tr>\n",
       "      <th>1</th>\n",
       "      <td>1000004</td>\n",
       "      <td>error</td>\n",
       "      <td>0</td>\n",
       "      <td>0</td>\n",
       "      <td>0</td>\n",
       "    </tr>\n",
       "    <tr>\n",
       "      <th>2</th>\n",
       "      <td>1000010</td>\n",
       "      <td>error</td>\n",
       "      <td>0</td>\n",
       "      <td>1</td>\n",
       "      <td>6</td>\n",
       "    </tr>\n",
       "    <tr>\n",
       "      <th>3</th>\n",
       "      <td>1000011</td>\n",
       "      <td>error</td>\n",
       "      <td>0</td>\n",
       "      <td>11</td>\n",
       "      <td>2</td>\n",
       "    </tr>\n",
       "    <tr>\n",
       "      <th>4</th>\n",
       "      <td>1000012</td>\n",
       "      <td>error</td>\n",
       "      <td>0</td>\n",
       "      <td>35</td>\n",
       "      <td>0</td>\n",
       "    </tr>\n",
       "  </tbody>\n",
       "</table>\n",
       "</div>"
      ],
      "text/plain": [
       "   user_id device_type  source free_sends super_sends\n",
       "0  1000003       error       0         37           0\n",
       "1  1000004       error       0          0           0\n",
       "2  1000010       error       0          1           6\n",
       "3  1000011       error       0         11           2\n",
       "4  1000012       error       0         35           0"
      ]
     },
     "execution_count": 52,
     "metadata": {},
     "output_type": "execute_result"
    }
   ],
   "source": []
  },
  {
   "cell_type": "code",
   "execution_count": null,
   "metadata": {},
   "outputs": [],
   "source": []
  }
 ],
 "metadata": {
  "kernelspec": {
   "display_name": "Python 3",
   "language": "python",
   "name": "python3"
  },
  "language_info": {
   "codemirror_mode": {
    "name": "ipython",
    "version": 3
   },
   "file_extension": ".py",
   "mimetype": "text/x-python",
   "name": "python",
   "nbconvert_exporter": "python",
   "pygments_lexer": "ipython3",
   "version": "3.6.8"
  }
 },
 "nbformat": 4,
 "nbformat_minor": 2
}

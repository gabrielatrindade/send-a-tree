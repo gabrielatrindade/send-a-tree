{
 "cells": [
  {
   "cell_type": "markdown",
   "metadata": {},
   "source": [
    "# First step: cohort and date_list\n",
    "\n",
    "All steps I would like to return a two dimensional table with 3 columns - result_list. \n",
    "<br>-- The first column should be the cohort. \n",
    "<br>-- The second column should represents de date-difference between the first (cohort) and the second date (date_list[column]).\n",
    "<br>-- The third one should have the number of times that the actual date (second column date) occurs into the list."
   ]
  },
  {
   "cell_type": "code",
   "execution_count": 5,
   "metadata": {},
   "outputs": [],
   "source": [
    "cohort = '2017-06-01'\n",
    "date_list = ['2017-06-01', '2017-06-02', '2017-06-03', '2017-06-04']"
   ]
  },
  {
   "cell_type": "code",
   "execution_count": 6,
   "metadata": {},
   "outputs": [],
   "source": [
    "result_list = []"
   ]
  },
  {
   "cell_type": "code",
   "execution_count": 7,
   "metadata": {},
   "outputs": [],
   "source": [
    "from datetime import datetime"
   ]
  },
  {
   "cell_type": "code",
   "execution_count": 8,
   "metadata": {},
   "outputs": [],
   "source": [
    "# transforming string in date type to be able subtract two dates\n",
    "def __datetime(date_str):\n",
    "    return datetime.strptime(date_str, '%Y-%m-%d').date()"
   ]
  },
  {
   "cell_type": "code",
   "execution_count": 9,
   "metadata": {},
   "outputs": [
    {
     "name": "stdout",
     "output_type": "stream",
     "text": [
      "2017-06-01\n"
     ]
    }
   ],
   "source": [
    "print(__datetime(date_list[0]))"
   ]
  },
  {
   "cell_type": "code",
   "execution_count": 47,
   "metadata": {},
   "outputs": [
    {
     "name": "stdout",
     "output_type": "stream",
     "text": [
      "1\n"
     ]
    }
   ],
   "source": [
    "# note '.days' in the end of the command -- in this way the command may only return the number of days\n",
    "print(( __datetime(date_list[1]) - __datetime(date_list[0]) ).days)"
   ]
  },
  {
   "cell_type": "code",
   "execution_count": 11,
   "metadata": {},
   "outputs": [
    {
     "name": "stdout",
     "output_type": "stream",
     "text": [
      "2017-06-01\n"
     ]
    }
   ],
   "source": [
    "# transforming cohort in datetime type\n",
    "cohort_datetime = __datetime(cohort)\n",
    "print(cohort_datetime)"
   ]
  },
  {
   "cell_type": "code",
   "execution_count": 12,
   "metadata": {},
   "outputs": [],
   "source": [
    "# transforming date_list in list of datetime types\n",
    "date_list_datetime = []\n",
    "for date in date_list:\n",
    "    date_list_datetime.append(__datetime(date))"
   ]
  },
  {
   "cell_type": "code",
   "execution_count": 13,
   "metadata": {},
   "outputs": [
    {
     "name": "stdout",
     "output_type": "stream",
     "text": [
      "[datetime.date(2017, 6, 1), datetime.date(2017, 6, 2), datetime.date(2017, 6, 3), datetime.date(2017, 6, 4)]\n"
     ]
    }
   ],
   "source": [
    "print(date_list_datetime)"
   ]
  },
  {
   "cell_type": "code",
   "execution_count": 14,
   "metadata": {},
   "outputs": [
    {
     "name": "stdout",
     "output_type": "stream",
     "text": [
      "2017-06-01\n"
     ]
    }
   ],
   "source": [
    "print(date_list_datetime[0])"
   ]
  },
  {
   "cell_type": "code",
   "execution_count": 15,
   "metadata": {},
   "outputs": [
    {
     "data": {
      "text/plain": [
       "4"
      ]
     },
     "execution_count": 15,
     "metadata": {},
     "output_type": "execute_result"
    }
   ],
   "source": [
    "date_list_datetime_len = len(date_list_datetime)\n",
    "date_list_datetime_len"
   ]
  },
  {
   "cell_type": "code",
   "execution_count": 16,
   "metadata": {},
   "outputs": [],
   "source": [
    "result_list = []\n",
    "for i in range(date_list_datetime_len):\n",
    "    result_list.append([cohort, (date_list_datetime[i] - cohort_datetime).days])"
   ]
  },
  {
   "cell_type": "code",
   "execution_count": 17,
   "metadata": {},
   "outputs": [
    {
     "data": {
      "text/plain": [
       "[['2017-06-01', 0], ['2017-06-01', 1], ['2017-06-01', 2], ['2017-06-01', 3]]"
      ]
     },
     "execution_count": 17,
     "metadata": {},
     "output_type": "execute_result"
    }
   ],
   "source": [
    "result_list"
   ]
  },
  {
   "cell_type": "code",
   "execution_count": 18,
   "metadata": {},
   "outputs": [
    {
     "data": {
      "text/plain": [
       "{'a': 3, 'b': 2, 'c': 1, 'd': 1}"
      ]
     },
     "execution_count": 18,
     "metadata": {},
     "output_type": "execute_result"
    }
   ],
   "source": [
    "# counting occurences of the elements in the list\n",
    "eg_list = ['a', 'b', 'c', 'a', 'a', 'b', 'd']\n",
    "aux_list = {}\n",
    "\n",
    "for letter in eg_list:\n",
    "    if letter in aux_list:\n",
    "        aux_list[letter] += 1\n",
    "    else:\n",
    "        aux_list[letter] = 1\n",
    "        \n",
    "aux_list"
   ]
  },
  {
   "cell_type": "code",
   "execution_count": 50,
   "metadata": {},
   "outputs": [],
   "source": [
    "result_list = []\n",
    "occurrences = {}\n",
    "\n",
    "for i in range(date_list_datetime_len):\n",
    "    # if there is it in occurrences then add more 1\n",
    "    if date_list_datetime[i] in occurrences:\n",
    "        occurrences[date_list_datetime[i]] += 1\n",
    "    # if not then create it with 1 occurrence\n",
    "    else:\n",
    "        occurrences[date_list_datetime[i]] = 1\n",
    "\n",
    "    result_list.append([cohort, (date_list_datetime[i] - cohort_datetime).days, occurrences[date_list_datetime[i]]])"
   ]
  },
  {
   "cell_type": "code",
   "execution_count": 49,
   "metadata": {},
   "outputs": [
    {
     "data": {
      "text/plain": [
       "[['2017-06-01', 0, 1],\n",
       " ['2017-06-01', 1, 1],\n",
       " ['2017-06-01', 2, 1],\n",
       " ['2017-06-01', 3, 1]]"
      ]
     },
     "execution_count": 49,
     "metadata": {},
     "output_type": "execute_result"
    }
   ],
   "source": [
    "result_list"
   ]
  },
  {
   "cell_type": "markdown",
   "metadata": {},
   "source": [
    "# Second step: cohort and test_set\n"
   ]
  },
  {
   "cell_type": "code",
   "execution_count": 52,
   "metadata": {},
   "outputs": [],
   "source": [
    "cohort = '2017-06-01'\n",
    "test_set = [['2017-06-01', '2017-06-02'],\n",
    "            ['2017-06-01', '2017-06-02'],\n",
    "            ['2017-06-01'],\n",
    "            ['2017-06-01', '2017-06-02', '2017-06-03'],\n",
    "            ['2017-06-01', '2017-06-02', '2017-06-03', '2017-06-04']]"
   ]
  },
  {
   "cell_type": "code",
   "execution_count": 54,
   "metadata": {},
   "outputs": [],
   "source": [
    "# transforming cohort in datetime type\n",
    "cohort_datetime = __datetime(cohort)"
   ]
  },
  {
   "cell_type": "code",
   "execution_count": 55,
   "metadata": {},
   "outputs": [
    {
     "name": "stdout",
     "output_type": "stream",
     "text": [
      "2017-06-01\n"
     ]
    }
   ],
   "source": [
    "print(cohort_datetime)"
   ]
  },
  {
   "cell_type": "code",
   "execution_count": 60,
   "metadata": {},
   "outputs": [],
   "source": [
    "result = []\n",
    "\n",
    "for l in range(len(test_set)):\n",
    "    for date in test_set[l]:\n",
    "        result.append([cohort, (__datetime(date) - cohort_datetime).days])"
   ]
  },
  {
   "cell_type": "code",
   "execution_count": 61,
   "metadata": {},
   "outputs": [
    {
     "data": {
      "text/plain": [
       "[['2017-06-01', 0],\n",
       " ['2017-06-01', 1],\n",
       " ['2017-06-01', 0],\n",
       " ['2017-06-01', 1],\n",
       " ['2017-06-01', 0],\n",
       " ['2017-06-01', 0],\n",
       " ['2017-06-01', 1],\n",
       " ['2017-06-01', 2],\n",
       " ['2017-06-01', 0],\n",
       " ['2017-06-01', 1],\n",
       " ['2017-06-01', 2],\n",
       " ['2017-06-01', 3]]"
      ]
     },
     "execution_count": 61,
     "metadata": {},
     "output_type": "execute_result"
    }
   ],
   "source": [
    "result"
   ]
  },
  {
   "cell_type": "code",
   "execution_count": 76,
   "metadata": {},
   "outputs": [],
   "source": [
    "final_result = []\n",
    "occurrences = {}\n",
    "\n",
    "for i in range(len(result)):\n",
    "    if result[i][1] in occurrences:\n",
    "        occurrences[result[i][1]] += 1\n",
    "    else:\n",
    "        occurrences[result[i][1]] = 1\n",
    "        \n",
    "    final_result.append([cohort, result[i][1], occurrences[result[i][1]]])"
   ]
  },
  {
   "cell_type": "code",
   "execution_count": 77,
   "metadata": {},
   "outputs": [
    {
     "data": {
      "text/plain": [
       "[['2017-06-01', 0, 1],\n",
       " ['2017-06-01', 1, 1],\n",
       " ['2017-06-01', 0, 2],\n",
       " ['2017-06-01', 1, 2],\n",
       " ['2017-06-01', 0, 3],\n",
       " ['2017-06-01', 0, 4],\n",
       " ['2017-06-01', 1, 3],\n",
       " ['2017-06-01', 2, 1],\n",
       " ['2017-06-01', 0, 5],\n",
       " ['2017-06-01', 1, 4],\n",
       " ['2017-06-01', 2, 2],\n",
       " ['2017-06-01', 3, 1]]"
      ]
     },
     "execution_count": 77,
     "metadata": {},
     "output_type": "execute_result"
    }
   ],
   "source": [
    "final_result"
   ]
  },
  {
   "cell_type": "code",
   "execution_count": 70,
   "metadata": {},
   "outputs": [
    {
     "data": {
      "text/plain": [
       "{'2017-06-01': 12}"
      ]
     },
     "execution_count": 70,
     "metadata": {},
     "output_type": "execute_result"
    }
   ],
   "source": []
  },
  {
   "cell_type": "code",
   "execution_count": null,
   "metadata": {},
   "outputs": [],
   "source": []
  }
 ],
 "metadata": {
  "kernelspec": {
   "display_name": "Python 3",
   "language": "python",
   "name": "python3"
  },
  "language_info": {
   "codemirror_mode": {
    "name": "ipython",
    "version": 3
   },
   "file_extension": ".py",
   "mimetype": "text/x-python",
   "name": "python",
   "nbconvert_exporter": "python",
   "pygments_lexer": "ipython3",
   "version": "3.6.8"
  }
 },
 "nbformat": 4,
 "nbformat_minor": 2
}

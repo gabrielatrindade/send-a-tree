{
 "cells": [
  {
   "cell_type": "code",
   "execution_count": 32,
   "metadata": {},
   "outputs": [
    {
     "data": {
      "text/plain": [
       "['source phone_type',\n",
       " 'source birth_year',\n",
       " 'source location',\n",
       " 'phone_type birth_year',\n",
       " 'phone_type location',\n",
       " 'birth_year location']"
      ]
     },
     "execution_count": 32,
     "metadata": {},
     "output_type": "execute_result"
    }
   ],
   "source": [
    "segments = ['source', 'phone_type', 'birth_year', 'location']\n",
    "result = []\n",
    "\n",
    "for i in segments:\n",
    "    for x in segments:\n",
    "        if i != x and not(x + ' ' + i) in result:\n",
    "            result.append(i + ' ' + x)\n",
    "        \n",
    "result"
   ]
  },
  {
   "cell_type": "code",
   "execution_count": 17,
   "metadata": {},
   "outputs": [
    {
     "name": "stdout",
     "output_type": "stream",
     "text": [
      "phone_type, source\n",
      "birth_year, source\n",
      "birth_year, phone_type\n",
      "location, source\n",
      "location, phone_type\n",
      "location, birth_year\n"
     ]
    }
   ],
   "source": [
    "for i in range(0,4):\n",
    "    for f in range(0,4):\n",
    "        if i > f:\n",
    "            print(segments[i] + ', ' + segments[f])"
   ]
  },
  {
   "cell_type": "code",
   "execution_count": 19,
   "metadata": {},
   "outputs": [
    {
     "name": "stdout",
     "output_type": "stream",
     "text": [
      "[]\n",
      "['source']\n",
      "['phone_type']\n",
      "['birth_year']\n",
      "['location']\n",
      "['source', 'phone_type']\n",
      "['source', 'birth_year']\n",
      "['source', 'location']\n",
      "['phone_type', 'birth_year']\n",
      "['phone_type', 'location']\n",
      "['birth_year', 'location']\n",
      "['source', 'phone_type', 'birth_year']\n",
      "['source', 'phone_type', 'location']\n",
      "['source', 'birth_year', 'location']\n",
      "['phone_type', 'birth_year', 'location']\n",
      "['source', 'phone_type', 'birth_year', 'location']\n"
     ]
    }
   ],
   "source": [
    "import itertools\n",
    "\n",
    "for i in range(0,5):\n",
    "    for f in itertools.combinations(segments, i):\n",
    "        print(list(f))"
   ]
  },
  {
   "cell_type": "code",
   "execution_count": null,
   "metadata": {},
   "outputs": [],
   "source": []
  }
 ],
 "metadata": {
  "kernelspec": {
   "display_name": "Python 3",
   "language": "python",
   "name": "python3"
  },
  "language_info": {
   "codemirror_mode": {
    "name": "ipython",
    "version": 3
   },
   "file_extension": ".py",
   "mimetype": "text/x-python",
   "name": "python",
   "nbconvert_exporter": "python",
   "pygments_lexer": "ipython3",
   "version": "3.6.8"
  }
 },
 "nbformat": 4,
 "nbformat_minor": 2
}
